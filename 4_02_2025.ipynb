{
  "nbformat": 4,
  "nbformat_minor": 0,
  "metadata": {
    "colab": {
      "provenance": []
    },
    "kernelspec": {
      "name": "python3",
      "display_name": "Python 3"
    },
    "language_info": {
      "name": "python"
    }
  },
  "cells": [
    {
      "cell_type": "code",
      "execution_count": 1,
      "metadata": {
        "colab": {
          "base_uri": "https://localhost:8080/"
        },
        "id": "juFI4c_TKa-l",
        "outputId": "66c5087e-9c60-452a-e9f9-f07faaa500be"
      },
      "outputs": [
        {
          "name": "stdout",
          "output_type": "stream",
          "text": [
            "SAI CHARAN\n"
          ]
        }
      ],
      "source": [
        "sentence = input()"
      ]
    },
    {
      "cell_type": "code",
      "source": [
        "exit_words=[\"stop\",\"quit\",\"escape\",\"exit\"]"
      ],
      "metadata": {
        "id": "Ts6lW1KLKe4Q"
      },
      "execution_count": 2,
      "outputs": []
    },
    {
      "cell_type": "code",
      "source": [
        "def lowercase(sentence):\n",
        "    return sentence.lower()"
      ],
      "metadata": {
        "id": "pff0rhFeK3_T"
      },
      "execution_count": 3,
      "outputs": []
    },
    {
      "cell_type": "code",
      "source": [
        "x=lowercase(sentence)\n"
      ],
      "metadata": {
        "id": "8F2ib5gnK4B9"
      },
      "execution_count": 4,
      "outputs": []
    },
    {
      "cell_type": "code",
      "source": [
        "x"
      ],
      "metadata": {
        "colab": {
          "base_uri": "https://localhost:8080/",
          "height": 36
        },
        "id": "rmZp-fyaK4Fe",
        "outputId": "636b82a9-3564-4ace-cf6a-656617e3c2f4"
      },
      "execution_count": 5,
      "outputs": [
        {
          "output_type": "execute_result",
          "data": {
            "text/plain": [
              "'sai charan'"
            ],
            "application/vnd.google.colaboratory.intrinsic+json": {
              "type": "string"
            }
          },
          "metadata": {},
          "execution_count": 5
        }
      ]
    },
    {
      "cell_type": "code",
      "source": [
        "def count(sentence):\n",
        "    return sentence.count()"
      ],
      "metadata": {
        "id": "8XaVs4FPLG-Y"
      },
      "execution_count": null,
      "outputs": []
    },
    {
      "cell_type": "code",
      "source": [
        "def replace(sentence):\n",
        "    return sentence.replace()"
      ],
      "metadata": {
        "id": "p50JpD1sLHFi"
      },
      "execution_count": null,
      "outputs": []
    },
    {
      "cell_type": "code",
      "source": [
        "while x not in exit_words:\n",
        "  choice = input(\"give  option: \")\n",
        "  if choice == 1:\n",
        "    print(lowercase(x))\n",
        "  elif choice == 2:\n",
        "    print(uppercase(x))\n",
        "  elif choice == 3:\n",
        "    print(count(x))\n",
        "  elif choice == 4:\n",
        "    print(replace(x))\n",
        "  else:\n",
        "    print(\"invalid choice\")\n",
        "  x = input()\n",
        ""
      ],
      "metadata": {
        "colab": {
          "base_uri": "https://localhost:8080/"
        },
        "id": "eEKDnQbXQBy3",
        "outputId": "0a2d35ca-ea54-4f6d-ac80-5fb9f6ec655a"
      },
      "execution_count": null,
      "outputs": [
        {
          "name": "stdout",
          "output_type": "stream",
          "text": [
            "give 1 or 2 option: 1\n",
            "invalid choice\n",
            "test case\n"
          ]
        }
      ]
    },
    {
      "cell_type": "code",
      "source": [],
      "metadata": {
        "id": "wWGt2A3ZLHIT"
      },
      "execution_count": null,
      "outputs": []
    },
    {
      "cell_type": "code",
      "source": [],
      "metadata": {
        "id": "9ukaULt8LHLq"
      },
      "execution_count": null,
      "outputs": []
    }
  ]
}