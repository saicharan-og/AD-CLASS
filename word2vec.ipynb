{
  "nbformat": 4,
  "nbformat_minor": 0,
  "metadata": {
    "colab": {
      "provenance": []
    },
    "kernelspec": {
      "name": "python3",
      "display_name": "Python 3"
    },
    "language_info": {
      "name": "python"
    }
  },
  "cells": [
    {
      "cell_type": "code",
      "execution_count": 1,
      "metadata": {
        "colab": {
          "base_uri": "https://localhost:8080/"
        },
        "id": "j13UPV4WrtND",
        "outputId": "fdc44d23-4ddb-4220-993e-01272bea76f8"
      },
      "outputs": [
        {
          "output_type": "stream",
          "name": "stdout",
          "text": [
            "[==================================================] 100.0% 958.5/958.4MB downloaded\n"
          ]
        }
      ],
      "source": [
        "import gensim.downloader as api\n",
        "model = api.load(\"fasttext-wiki-news-subwords-300\")"
      ]
    },
    {
      "cell_type": "code",
      "source": [
        "print(model[\"king\"])"
      ],
      "metadata": {
        "colab": {
          "base_uri": "https://localhost:8080/"
        },
        "id": "sulVAKTovDBH",
        "outputId": "ea4c4e0a-9644-4d63-c52a-af12a76864da"
      },
      "execution_count": 2,
      "outputs": [
        {
          "output_type": "stream",
          "name": "stdout",
          "text": [
            "[-1.2063e-01  5.1695e-03 -1.2447e-02 -7.8528e-03 -2.3738e-02 -8.2595e-02\n",
            "  4.5790e-02 -1.5382e-01  6.4550e-02  1.2893e-01  2.7643e-02  1.5958e-02\n",
            "  7.7559e-02  6.0516e-02  1.2737e-01  8.4766e-02  6.3890e-02 -1.7687e-01\n",
            "  4.3017e-02 -1.8031e-02 -3.3041e-02  2.1930e-02 -1.1328e-02  6.6453e-02\n",
            "  1.5826e-01 -2.3008e-02 -4.3616e-03 -2.2379e-02  4.4891e-02  3.0103e-03\n",
            " -1.5565e-02 -7.6785e-02 -9.2186e-02  5.7907e-02 -2.7658e-02  5.4500e-03\n",
            "  1.8975e-02  4.2939e-02  3.4704e-03  4.0449e-02 -4.0245e-03 -1.1594e-01\n",
            " -5.8337e-03  3.2509e-02 -8.6535e-02  7.2000e-02 -2.2299e-02  1.3079e-02\n",
            " -3.9515e-02  6.8996e-02  9.2300e-02 -7.5371e-02  5.9412e-03 -3.4945e-02\n",
            " -3.3417e-02 -9.9982e-02  1.6438e-02  6.3739e-02 -6.2391e-02  7.8285e-04\n",
            " -2.9210e-02 -9.6416e-02  7.2910e-02  4.5905e-02 -8.3387e-02  7.1969e-02\n",
            "  4.0932e-02 -5.6454e-03  1.3709e-01 -1.1793e-01 -7.1011e-02 -7.1963e-02\n",
            "  6.5600e-02 -4.6315e-02 -1.7200e-02  3.4434e-02  4.4218e-02 -9.6354e-03\n",
            " -6.8105e-02  3.0810e-02  1.5424e-02  5.6398e-02  4.4225e-02  8.0547e-02\n",
            " -5.2413e-02 -3.6509e-02  2.6141e-02  2.5574e-02 -3.4346e-02 -4.5879e-02\n",
            " -1.7031e-02  5.1450e-02 -1.2766e-01 -8.6838e-02  1.1084e-02  1.3282e-01\n",
            "  2.0850e-02  7.0881e-02 -5.9277e-03  2.2612e-02  4.8919e-02 -1.2490e-02\n",
            "  1.5460e-01 -6.1251e-03 -8.9369e-02 -2.3707e-01  2.0696e-02 -3.7604e-02\n",
            " -8.3793e-02 -2.5512e-03 -4.0426e-02  1.0575e-01  9.7514e-02  4.4101e-02\n",
            "  4.1732e-02  7.4080e-02  6.3560e-02  3.1801e-02 -1.4961e-02 -4.3675e-03\n",
            " -1.4893e-02  8.6208e-02 -2.0204e-02 -2.0797e-03  7.7648e-02 -1.9620e-03\n",
            "  3.2115e-02 -1.5615e-01 -3.6702e-02  1.2009e-01 -8.0633e-02  4.2894e-02\n",
            " -3.5265e-02  2.2693e-02 -3.3743e-02  1.7573e-02 -7.5089e-02  9.8873e-02\n",
            "  2.7042e-02 -1.7185e-02  1.7489e-02 -1.1096e-01  7.5456e-02 -4.2234e-02\n",
            " -3.7115e-02 -1.2356e-02  1.1243e-02 -4.6907e-02 -5.5681e-02 -6.5216e-02\n",
            "  5.4923e-02  3.7514e-02  5.0259e-02 -7.4453e-02 -2.0440e-02 -8.3293e-02\n",
            " -2.3010e-02 -4.2105e-02 -2.8792e-02 -1.9139e-02  3.6758e-02  7.7620e-02\n",
            " -6.3909e-02 -2.9304e-02  3.1128e-02 -1.2056e-02 -3.0854e-02 -2.3162e-02\n",
            " -4.4762e-02  1.2797e-01 -7.7709e-03 -7.7466e-02 -2.7976e-02  5.1038e-02\n",
            " -5.5217e-02  7.5312e-02  3.4093e-02 -3.4833e-03  9.7360e-03  5.8273e-02\n",
            "  9.3454e-02 -4.3781e-02 -4.5870e-02 -7.3544e-02 -4.1269e-02 -9.1712e-02\n",
            " -1.5840e-01  1.1790e-01  3.4210e-02 -2.4719e-02  6.1251e-02  8.2068e-02\n",
            " -1.1710e-01  2.9949e-02 -7.1442e-02  2.2185e-02 -2.4418e-02 -2.5316e-02\n",
            " -5.3970e-02  1.1615e-01 -1.9979e-01  6.8714e-02 -6.1776e-03 -3.9478e-02\n",
            " -1.8856e-02  7.8819e-02  3.0709e-02 -4.7448e-02 -5.0356e-02 -4.0706e-02\n",
            "  1.4722e-01 -4.6420e-02  1.1976e-05  9.2290e-02 -6.1358e-02  6.0161e-05\n",
            "  1.4491e-02 -2.4847e-02  5.6051e-02  1.9206e-02  3.2446e-02  5.0245e-03\n",
            "  1.9242e-02  1.3482e-01  7.3311e-03 -1.0219e-01  7.6724e-02  9.7512e-02\n",
            " -4.9655e-02 -7.2788e-03 -1.1748e-01 -3.5783e-02 -6.9954e-02 -8.8086e-03\n",
            " -1.5677e-02  6.4489e-02 -7.2463e-02 -5.0428e-03  7.5461e-02 -6.0999e-02\n",
            "  9.2653e-02 -5.3002e-02 -9.8853e-02  4.4468e-02  1.5699e-03  1.0594e-02\n",
            "  5.4306e-02  2.1943e-02 -1.4941e-02 -2.9272e-02  1.0173e-01 -2.7459e-02\n",
            " -1.7016e-02  3.7454e-02  8.5015e-02  8.6834e-02 -7.6342e-02  9.5069e-02\n",
            "  4.6912e-02 -2.2718e-02 -7.9839e-02  6.6125e-02  6.2540e-02  2.5836e-02\n",
            "  2.4580e-02  5.1879e-02 -1.8032e-04  4.8657e-02 -1.1875e-01 -2.4103e-02\n",
            "  1.5130e-03  8.0515e-02 -1.0280e-01 -1.3489e-02  7.1108e-02 -6.0643e-02\n",
            " -2.3006e-02 -9.8232e-03 -8.7159e-02  8.5388e-02  5.3778e-02 -8.4714e-02\n",
            "  5.4218e-02 -4.1406e-02  1.0716e-02  6.9728e-02 -8.9833e-03 -8.0539e-02\n",
            " -3.0566e-02  1.0912e-01 -3.9061e-02 -6.3893e-02 -3.3986e-02 -2.0095e-02\n",
            " -6.0904e-02  1.5957e-02 -1.0371e-02  6.7261e-02 -3.0458e-02 -3.1992e-02]\n"
          ]
        }
      ]
    },
    {
      "cell_type": "code",
      "source": [
        "model.most_similar(\"king\")\n"
      ],
      "metadata": {
        "colab": {
          "base_uri": "https://localhost:8080/"
        },
        "id": "S4biGC00vDMU",
        "outputId": "42655b9a-5d43-4785-edc9-0fc5269c591c"
      },
      "execution_count": 3,
      "outputs": [
        {
          "output_type": "execute_result",
          "data": {
            "text/plain": [
              "[('king-', 0.7838029861450195),\n",
              " ('boy-king', 0.7704817652702332),\n",
              " ('queen', 0.7704246640205383),\n",
              " ('prince', 0.7700967192649841),\n",
              " ('kings', 0.7668929696083069),\n",
              " ('sub-king', 0.7391484379768372),\n",
              " ('monarch', 0.736833393573761),\n",
              " ('king-making', 0.7288671731948853),\n",
              " ('ex-king', 0.7280160188674927),\n",
              " ('warrior-king', 0.7232080698013306)]"
            ]
          },
          "metadata": {},
          "execution_count": 3
        }
      ]
    },
    {
      "cell_type": "code",
      "source": [
        "model.most_similar(positive=['king', 'woman'], negative=['man'])"
      ],
      "metadata": {
        "colab": {
          "base_uri": "https://localhost:8080/"
        },
        "id": "HIYrr-_nvDSD",
        "outputId": "e288ad31-e90a-4398-c805-fa7f81a5863e"
      },
      "execution_count": 4,
      "outputs": [
        {
          "output_type": "execute_result",
          "data": {
            "text/plain": [
              "[('queen', 0.7786749005317688),\n",
              " ('queen-mother', 0.7143871784210205),\n",
              " ('king-', 0.6981282234191895),\n",
              " ('queen-consort', 0.6724597811698914),\n",
              " ('monarch', 0.6666999459266663),\n",
              " ('child-king', 0.6663159132003784),\n",
              " ('boy-king', 0.660534679889679),\n",
              " ('princess', 0.653827428817749),\n",
              " ('ex-queen', 0.652145504951477),\n",
              " ('kings', 0.6497675180435181)]"
            ]
          },
          "metadata": {},
          "execution_count": 4
        }
      ]
    },
    {
      "cell_type": "code",
      "source": [
        "model.doesnt_match([\"apple\", \"banana\", \"car\", \"mango\"])"
      ],
      "metadata": {
        "colab": {
          "base_uri": "https://localhost:8080/",
          "height": 36
        },
        "id": "fYgxI2cTvDVb",
        "outputId": "316837ff-f93e-4775-eb74-5389a63edd47"
      },
      "execution_count": 5,
      "outputs": [
        {
          "output_type": "execute_result",
          "data": {
            "text/plain": [
              "'car'"
            ],
            "application/vnd.google.colaboratory.intrinsic+json": {
              "type": "string"
            }
          },
          "metadata": {},
          "execution_count": 5
        }
      ]
    },
    {
      "cell_type": "code",
      "source": [],
      "metadata": {
        "id": "JAhW4-hfvsIX"
      },
      "execution_count": null,
      "outputs": []
    },
    {
      "cell_type": "markdown",
      "source": [
        "[link text](https://)# \"**Traing** Own Model* **bold text** **bold text**"
      ],
      "metadata": {
        "id": "q55T6rvEv-nL"
      }
    },
    {
      "cell_type": "code",
      "source": [],
      "metadata": {
        "id": "JMZI_pqYvsSV"
      },
      "execution_count": null,
      "outputs": []
    },
    {
      "cell_type": "markdown",
      "source": [
        "training own model\n",
        "**bo\n",
        "ld text**\n",
        "\n",
        "```\n",
        "# This is formatted as code\n",
        "```\n",
        "\n",
        "# New Section"
      ],
      "metadata": {
        "id": "WhNaZH4YwORD"
      }
    },
    {
      "cell_type": "code",
      "source": [
        "    sentences = [\n",
        "        [\"machine\", \"learning\", \"is\", \"amazing\"],\n",
        "        [\"deep\", \"learning\", \"is\", \"a\", \"subset\", \"of\", \"machine\", \"learning\"],\n",
        "        [\"artificial\", \"intelligence\", \"is\", \"the\", \"future\"],\n",
        "        [\"word2vec\", \"converts\", \"words\", \"into\", \"vectors\"]\n",
        "    ]\n"
      ],
      "metadata": {
        "id": "_j5x1Hf7wT4N"
      },
      "execution_count": 6,
      "outputs": []
    },
    {
      "cell_type": "code",
      "source": [
        "from gensim.models import Word2Vec\n",
        "model2 = Word2Vec(sentences, vector_size=50, window=5, min_count=1, workers=4)"
      ],
      "metadata": {
        "id": "p-Lw7SKIwriZ"
      },
      "execution_count": 8,
      "outputs": []
    },
    {
      "cell_type": "code",
      "source": [
        "model2.wv[\"machine\"]"
      ],
      "metadata": {
        "colab": {
          "base_uri": "https://localhost:8080/"
        },
        "id": "gmd2QLDUwrb1",
        "outputId": "12c7d59b-f6e9-4951-cd43-de05915e29ce"
      },
      "execution_count": 9,
      "outputs": [
        {
          "output_type": "execute_result",
          "data": {
            "text/plain": [
              "array([-0.01723938,  0.00733148,  0.01037977,  0.01148388,  0.01493384,\n",
              "       -0.01233535,  0.00221123,  0.01209456, -0.0056801 , -0.01234705,\n",
              "       -0.00082045, -0.0167379 , -0.01120002,  0.01420908,  0.00670508,\n",
              "        0.01445134,  0.01360049,  0.01506148, -0.00757831, -0.00112361,\n",
              "        0.00469675, -0.00903806,  0.01677746, -0.01971633,  0.01352928,\n",
              "        0.00582883, -0.00986566,  0.00879638, -0.00347915,  0.01342277,\n",
              "        0.0199297 , -0.00872489, -0.00119868, -0.01139127,  0.00770164,\n",
              "        0.00557325,  0.01378215,  0.01220219,  0.01907699,  0.01854683,\n",
              "        0.01579614, -0.01397901, -0.01831173, -0.00071151, -0.00619968,\n",
              "        0.01578863,  0.01187715, -0.00309133,  0.00302193,  0.00358008],\n",
              "      dtype=float32)"
            ]
          },
          "metadata": {},
          "execution_count": 9
        }
      ]
    },
    {
      "cell_type": "code",
      "source": [
        "model2.wv.most_similar(\"learning\")"
      ],
      "metadata": {
        "colab": {
          "base_uri": "https://localhost:8080/"
        },
        "id": "AOQWP_4-wrUq",
        "outputId": "017e85e8-733f-4aa3-afae-c8f588638c56"
      },
      "execution_count": 10,
      "outputs": [
        {
          "output_type": "execute_result",
          "data": {
            "text/plain": [
              "[('converts', 0.21067024767398834),\n",
              " ('the', 0.16703546047210693),\n",
              " ('word2vec', 0.15045210719108582),\n",
              " ('subset', 0.13204392790794373),\n",
              " ('machine', 0.1267007291316986),\n",
              " ('into', 0.0999353677034378),\n",
              " ('artificial', 0.05936763808131218),\n",
              " ('is', 0.04243569076061249),\n",
              " ('future', 0.0406772643327713),\n",
              " ('deep', 0.012497726827859879)]"
            ]
          },
          "metadata": {},
          "execution_count": 10
        }
      ]
    },
    {
      "cell_type": "code",
      "source": [
        "from scipy.spatial.distance import cosine\n",
        "from numpy.linalg import norm"
      ],
      "metadata": {
        "id": "U9BlXJBdxDUQ"
      },
      "execution_count": 11,
      "outputs": []
    },
    {
      "cell_type": "code",
      "source": [
        "# Distance\n",
        "norm(model[\"man\"] - model[\"woman\"])"
      ],
      "metadata": {
        "colab": {
          "base_uri": "https://localhost:8080/"
        },
        "id": "AFhs-N6XxDgc",
        "outputId": "ee08cafe-fed0-4ac3-fad2-188b52ed6ea4"
      },
      "execution_count": 12,
      "outputs": [
        {
          "output_type": "execute_result",
          "data": {
            "text/plain": [
              "0.6913657"
            ]
          },
          "metadata": {},
          "execution_count": 12
        }
      ]
    },
    {
      "cell_type": "code",
      "source": [
        "# Cos Similarity\n",
        "cosine(model[\"kingdom\"], model[\"people\"])"
      ],
      "metadata": {
        "colab": {
          "base_uri": "https://localhost:8080/"
        },
        "id": "5j4RQW6pxSVd",
        "outputId": "14efec82-d75c-4cf4-eddb-cc2e9e2aa4db"
      },
      "execution_count": 13,
      "outputs": [
        {
          "output_type": "execute_result",
          "data": {
            "text/plain": [
              "0.5992496782686327"
            ]
          },
          "metadata": {},
          "execution_count": 13
        }
      ]
    },
    {
      "cell_type": "code",
      "source": [],
      "metadata": {
        "id": "DFX8Co_exSMU"
      },
      "execution_count": null,
      "outputs": []
    }
  ]
}